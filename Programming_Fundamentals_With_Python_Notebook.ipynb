{
  "metadata": {
    "kernelspec": {
      "name": "python",
      "display_name": "Python (Pyodide)",
      "language": "python"
    },
    "language_info": {
      "codemirror_mode": {
        "name": "python",
        "version": 3
      },
      "file_extension": ".py",
      "mimetype": "text/x-python",
      "name": "python",
      "nbconvert_exporter": "python",
      "pygments_lexer": "ipython3",
      "version": "3.8"
    },
    "prev_pub_hash": "dd65a6533781995d234c324f635263675cb496c9e8fee6a0ac2c333a86422ee7"
  },
  "nbformat_minor": 4,
  "nbformat": 4,
  "cells": [
    {
      "cell_type": "markdown",
      "source": "<p \">\n    <a href=\"https://skills.network/?utm_medium=Exinfluencer&utm_source=Exinfluencer&utm_content=000026UJ&utm_term=10006555&utm_id=NA-SkillsNetwork-Channel-SkillsNetworkCoursesIBMCS0151ENSkillsNetwork835-2022-01-01\" target=\"_blank\">\n    <img src=\"https://cf-courses-data.s3.us.cloud-object-storage.appdomain.cloud/assets/logos/SN_web_lightmode.png\" width=\"200\" alt=\"Skills Network Logo\">\n    </a>\n</p>\n",
      "metadata": {}
    },
    {
      "cell_type": "markdown",
      "source": "# **Programming Fundamentals with Python**\n",
      "metadata": {}
    },
    {
      "cell_type": "markdown",
      "source": "**Estimated time needed**: 35 minutes\n",
      "metadata": {}
    },
    {
      "cell_type": "markdown",
      "source": "In this lab, you will write Python code to perform a series of Eight exercises:\n- [Exercise 1: Print a String](#Exercise1)\n- [Exercise 2: Declare, Set a Value, and Print Variables](#Exercise2)\n- [Exercise 3: Perform Simple Arithmetic Operations](#Exercise3)\n- [Exercise 4: Execute Conditional Statements](#Exercise4)\n- [Exercise 5: Declare and Print an Array Using a For-Loop](#Exercise5)\n- [Exercise 6: Execute a Break Statement using a For-Loop](#Exercise6)\n- [Exercise 7: Declare and Print a Variable Using a While-Loop](#Exercise7)\n- [Exercise 8: Execute a Break Statement using a While-Loop](#Exercise8)\n",
      "metadata": {}
    },
    {
      "cell_type": "markdown",
      "source": "## Objectives\n",
      "metadata": {}
    },
    {
      "cell_type": "markdown",
      "source": "After completing this lab you will be able to:\n- Recognize programming concepts such as variables, constants, identifiers, functions, and arrays\n- Demonstrate the use of variables in a program by executing a block of code\n- Execute programming logic using if-then statements, for-loops, while-loops\n",
      "metadata": {}
    },
    {
      "cell_type": "markdown",
      "source": "***\n",
      "metadata": {}
    },
    {
      "cell_type": "markdown",
      "source": "## Exercise 1: Print a String<a id=\"Exercise1\"></a>\n",
      "metadata": {}
    },
    {
      "cell_type": "markdown",
      "source": "A string is a sequence of characters.  In Python, strings are enclosed inside single quotes, double quotes, or triple quotes. \n\nIn this exercise, you will practice using the built-in **`print()`** function in Python.\n\n## Task A: Review the source code  \nThe source code below prints the string Hello, world! on the screen.\n\n#### Source Code #1\n```Python\n#This code prints the statement in parentheses\nprint('Hello, world!')\n```\n- ***Note:*** *Comments in Python begin with the # character. Comments are used for clarifying code and are ignored by the interpreter.*\n\n#### Output\n    Hello, world!\n    \n## Task B: Write the code\nStep 1: Place your cursor in the cell below.\n<br>Step 2: Using source code #1 as an example, write the line of Python code to **print** the string ‘This is my first program’.\n<br>Step 3: Select the Run button in the toolbar to run your code and view the output.  Ensure your cursor is placed in the cell containing the code you intend to run.\n\n<img src=\"https://cf-courses-data.s3.us.cloud-object-storage.appdomain.cloud/IBM-CS0151EN-SkillsNetwork/labs/Module_3/Lab_Programming_Fundamentals_with_Python/images/Run.png\">\n\n**Tip**: You can also run a code cell by clicking in it and pressing the SHIFT + ENTER keys simultaneously.\n",
      "metadata": {}
    },
    {
      "cell_type": "code",
      "source": "# Write your code for Exercise 1 in this cell\n",
      "metadata": {},
      "outputs": [],
      "execution_count": null
    },
    {
      "cell_type": "markdown",
      "source": "<details>\n<summary>Click here for Hint</summary>\n\n> Use the **`print()`** function as in the sample code. Use single or double quotes at the beginning and end of the string in the print statement.\n\n</details>\n\n<br>\n\n<details>\n<summary>Click here for Solution</summary>\n\n> \n```Python\nprint('This is my first program')\n```\n\n</details>\n",
      "metadata": {}
    },
    {
      "cell_type": "markdown",
      "source": "***\n",
      "metadata": {}
    },
    {
      "cell_type": "markdown",
      "source": "## Exercise 2: Declare, Set a Value, and Print Variables<a id=\"Exercise2\"></a>\n",
      "metadata": {}
    },
    {
      "cell_type": "markdown",
      "source": "In this exercise, you will practice how to declare a variable, set a value to it, and then print it.\n\n## Task A: Review the source code  \nThe first line of the source code below declares variable **`a`** and assigns the value **7**.\n<br>The second line declares variable **`b`** and assigns the value **5.5**.\n<br>The third and fourth lines use the **`print()`** function in Python to display the value of variables **a** and **b** as the output.\n\n#### Source Code #2 \n```Python\na=7\nb=5.5\nprint(a)\nprint(b)\n``` \n\n#### Output \n    7\n    5.5\n\n## Task B: Write the code\nStep 1: Using source code #2 as an example, write the first line of code to declare a variable called **myint** and assign the integer value **200**.\n<br>Step 2: Next, write the second line of code to print the variable.\n<br>Step 3: Run your code to view the output.\n",
      "metadata": {}
    },
    {
      "cell_type": "code",
      "source": "# Write your code for Exercise 2 in this cell\n",
      "metadata": {},
      "outputs": [],
      "execution_count": null
    },
    {
      "cell_type": "markdown",
      "source": "<details>\n<summary>Click here for Hint</summary>\n\n> Instead of two variables **a** and **b**, you will be use one variable **myint**.\n\n</details>\n\n<br>\n\n<details>\n<summary>Click here for Solution</summary>\n\n> \n```Python\nmyint=200\nprint(myint)\n```\n\n</details>\n",
      "metadata": {}
    },
    {
      "cell_type": "markdown",
      "source": "***\n",
      "metadata": {}
    },
    {
      "cell_type": "markdown",
      "source": "## Exercise 3: Perform Simple Arithmetic Operations <a id=\"Exercise3\"></a>\n",
      "metadata": {}
    },
    {
      "cell_type": "markdown",
      "source": "In this exercise, you will practice how to perform simple arithmetic operations on variables and print the output.\n\n## Task A: Review the source code  \nThe first line of the source code below declares the variable **`a`** and assigns the value **25**.\n<br>The second line declares the variable **`b`** and assigns the value **100**.\n<br>The third line assigns the sum of the values for variables **`a`** and **`b`** to variable **`c`**.\n<br>The fourth line uses the **`print()`** function in Python to display the value of variable **c** as the output.\n\n#### Source Code #3\n```Python\n# a,b and c are variables and addition operation is tested in this program \na=25 \nb=100 \nc=a+b\nprint (c) \n``` \n\n#### Output \n    125\n    \n## Task B: Write the code\nStep 1: Using source code #3 as an example, write the first line to declare a variable called **a** and assign the value **20**.\n<br>Step 2: Write the second line to declare variable **c** and assign the value to multiply variable **a** by **100**.\n<br>Step 3: Write the third line of code to print variable **c**.\n<br>Step 4: Lastly, run your code to view the output.\n",
      "metadata": {}
    },
    {
      "cell_type": "code",
      "source": "# Write your code for Exercise 3 in this cell\n",
      "metadata": {},
      "outputs": [],
      "execution_count": null
    },
    {
      "cell_type": "markdown",
      "source": "<details>\n<summary>Click here for Hint</summary>\n\n> Use the multiplication operator * for this exercise.\n\n</details>\n\n<br>\n\n<details>\n<summary>Click here for Solution</summary>\n\n> \n```Python\na=20\nc=a*100\nprint(c)\n```\n\n</details>\n",
      "metadata": {}
    },
    {
      "cell_type": "markdown",
      "source": "***\n",
      "metadata": {}
    },
    {
      "cell_type": "markdown",
      "source": "## Exercise 4: Execute Conditional Statements<a id=\"Exercise4\"></a>\n",
      "metadata": {}
    },
    {
      "cell_type": "markdown",
      "source": "If-Else conditional statements are used when decision making is required and code is executed only if certain conditions are met.\n\nIn this exercise, you will practice how to evaluate a variable and criteria to execute code using an If statement.\n\n## Task A: Review the source code\nThe first line in the source code below declares the variable **`score`** and assigns the value **88**.\n<br>The second line is the **`if`** conditional statement (**`score`** is greater than 90).\n<br>If the condition is true, the third line will execute to print \"Well done! That gets you an A+ grade\".\n<br>The fourth line is the **`else`** statement and will run only if the condition is false.\n<br>When the condition is false, the fifth line will execute to print \"Better luck next time!\".  \nNotice again the indent in these lines of code within the conditional statements.  Without it, an indentation error will occur and prevent the code from being executed.\n\n#### Source Code #4\n```Python\nscore=88\nif score>90:\n    print(\"Well done! That gets you an A+ grade\")\nelse:\n    print(\"Better luck next time!\")\n``` \n#### Output \n    Better luck next time!\n\n\n**Note**\n<br>\nThere may be a need for additional levels of evaluation. For additional levels of evaluations, use **`elif`** for each level needed, then add **`else`** at the end. Remember to always include  **:** at the end of each statement. Below is an example:\n```Python\nscore=88\nif score>90:\n    print(\"Well done! That gets you an A+ grade\")\nelif score>=70:\n    print(\"Good work! Passed the test!\")\nelse:\n    print(\"Better luck next time!\")\n``` \n#### Output \n    Good work! Passed the test!\n",
      "metadata": {}
    },
    {
      "cell_type": "markdown",
      "source": "## Task B: Write the code\nStep 1: Using the Source Code #5 as an example, write the first line of Python code to set a variable called **myval** to **8**.\n<br>Step 2: Write the second line to begin IF statement to test if **myval** is greater than 0.\n<br>Step 3: Write the third line of code to print \"It is a positive number\" when the condition is True.\n<br>Step 4: Write the fourth line to begin **`else`** conditional statement.\n<br>Step 5: Write the fifth line to print \"It is a negative number\" when the condition is False.\n<br>Step 6: Run your code to view the output.\n",
      "metadata": {}
    },
    {
      "cell_type": "code",
      "source": "# Write your code for Exercise 5 in this cell\n",
      "metadata": {},
      "outputs": [],
      "execution_count": null
    },
    {
      "cell_type": "markdown",
      "source": "<details>\n<summary>Click here for Hint</summary>\n\n> When using an IF statement, make sure to indent correctly.  Otherwise, you will see an error.\n\n</details>\n\n<br>\n\n<details>\n<summary>Click here for Solution</summary>\n\n> \n```Python\nmyval=8\nif myval>0:\n        print(\"It is a positive number\")\nelse:\n        print(\"It is is a negative number\")\n```\n\n</details>\n",
      "metadata": {}
    },
    {
      "cell_type": "markdown",
      "source": "***\n",
      "metadata": {}
    },
    {
      "cell_type": "markdown",
      "source": "## Exercise 5: Declare and Print an Array Using a For-Loop<a id=\"Exercise5\"></a>\n",
      "metadata": {}
    },
    {
      "cell_type": "markdown",
      "source": "Arrays are data structures or containers that can hold more than one value.\n\nIn this exercise, you will practice how to declare a string array and print the array elements using a For-loop.\n\n## Task A: Review the source code  \nThe first line of the source code below declares a string array called **`mylist`** with the values: **John**, **Sam**, and **Adam**.\n<br> The second line shows the syntax of the for-loop, and **`x`** indicates the values in the array.\n<br> The third line uses the **`print()`** function within the for-loop to display the array elements. \n<br>Notice the indent in the code within the for-loop.  Without it, an indentation error will occur and prevent the code from being executed.\n\n#### Source Code #5\n```Python\nmylist= [\"John\", \"Sam\", \"Adam\"] \nfor x in mylist: \n    print(x) \n``` \n\n#### Output \n    John\n    Sam\n    Adam\n    \n## Task B: Write the code\nStep 1: Using source code #5 as an example, write the first line of code to declare an integer array variable called **myarray** and assign the values: **20**, **10**, **44**, **928**, **200**. No quotes should be used for values in an integer array.\n<br>Step 2: Write the second line of code with for-loop syntax.\n<br>Step 3: Write the third line of code to print the array elements.  Remember to indent this line of code to avoid an indentation error.  \n        - ***To create an indent:*** *Press the **Tab** key once OR the **Space Bar** two times on your keyboard.*\n<br>Step 4: Run your code to view the output.\n",
      "metadata": {}
    },
    {
      "cell_type": "code",
      "source": "# Write your code for Exercise 4 in this cell\n",
      "metadata": {},
      "outputs": [],
      "execution_count": null
    },
    {
      "cell_type": "markdown",
      "source": "<details>\n<summary>Click here for Hint</summary>\n\n> Use square brackets [ ] to declare your integer array.  No quotes should be used for values in an integer array.\n\n</details>\n\n<br>\n\n<details>\n<summary>Click here for Solution</summary>\n\n> \n```Python\nmyarray=[20, 10, 44, 928, 200]\nfor x in myarray:\n    print(x)\n```\n\n</details>\n",
      "metadata": {}
    },
    {
      "cell_type": "markdown",
      "source": "***\n",
      "metadata": {}
    },
    {
      "cell_type": "markdown",
      "source": "## Exercise 6: Execute a Break Statement using a For-Loop<a id=\"Exercise6\"></a>\n",
      "metadata": {}
    },
    {
      "cell_type": "markdown",
      "source": "For loops are used to execute a set of statements like a List.\nArrays are data structures or containers that can hold more than one value, like a List. \nBreak statements allow a program to stop a loop when the condition is true.<br> \nConditional statements are used when decision making is required and code is executed only if certain conditions are met.<br>\n\nIn this exercise, you will practice how to create a break statement in a given for-loop.\n\n## Task A: Review the source code  \nThe first line of the source code below declares a string array called **`mylist`** with the values: **computer, monitor, table**.\n<br> The second line shows the syntax of the for-loop, and **`x`** indicates the values in the array.\n<br> The third line uses the **`print()`** function within the for-loop to display the array elements. \n<br>Notice the indent in the code within the for-loop.  Without it, an indentation error will occur and prevent the code from being executed.\n<br>The forth line uses the **`if`** conditional statement to test if, x is equal to monitor, using the following **`x`** and **`==`** *assignment operator* of equal with value of **monitor**. If the condition is true, the **`break`** statement and end the loop.\n<br>The fifth line uses the **`break`** statement, once the If the condition is true, the line will execute and end the loop. \n\n\n \n\n### Source Code #6\n```Python\nmylist = [\"computer\", \"monitor\", \"table\"]\nfor x in mylist:\n  print(x)\n  if x == \"monitor\":\n    break\n``` \n\n#### Output \n    computer\n    monitor\n    \n\n## Task B: Write the code\nStep 1: Using source code #6 as an example, write the first line of code to declare an integer array variable called **shopping_list** and assign the values: **bread**, **water**, **chips**, **candy**, **soda**. Quotes should be used for each string value in the array.\n<br>Step 2: Write the second line of code with for-loop syntax.\n<br>Step 3: Write the third line of code to print the array elements.  Remember to indent this line of code to avoid an indentation error.  \n        - ***To create an indent:*** *Press the **Tab** key once OR the **Space Bar** two times on your keyboard.*\n<br>Step 4: Write the forth line to begin IF statement to test if **`x`** is equal to **chips**\n<br>Step 5: Write the fifth line to write the break statement. \n<br>Step 6: Run your code to view the output.\n",
      "metadata": {}
    },
    {
      "cell_type": "code",
      "source": "# Write your code for Exercise 8 in this cell\n",
      "metadata": {},
      "outputs": [],
      "execution_count": null
    },
    {
      "cell_type": "markdown",
      "source": "<details>\n<summary>Click here for Hint</summary>\n\n> Use square brackets [ ] to declare your array. When using an IF statement, make sure to indent correctly.  Otherwise, you will see an error.\n\n</details>\n\n<br>\n\n<details>\n<summary>Click here for Solution</summary>\n\n> \n```Python\nshopping_list = [\"bread\", \"water\", \"chips\", \"candy\", \"soda\"]\nfor x in shopping_list:\n  print(x)\n  if x == \"chips\":\n    break\n```\n\n</details>\n",
      "metadata": {}
    },
    {
      "cell_type": "markdown",
      "source": "***\n",
      "metadata": {}
    },
    {
      "cell_type": "markdown",
      "source": "## Exercise 7: Declare and Print a Variable Using a While-Loop<a id=\"Exercise7\"></a>\n",
      "metadata": {}
    },
    {
      "cell_type": "markdown",
      "source": "While loops continue to execute statements until a condition is true.<br>\nComparison Operator are useful in a program to compare two values.<br>\nAssignment Operator are useful in a program to assign values to a variable.<br>\n\nIn this exercise, you will practice how to declare a variable and print the variable with a while-loop.\n\n## Task A: Review the source code  \nThe first line of the source code below declares a variable called **A** with the value assigned as **1**\n<br>The second line shows the syntax of the while-loop, and **`A`** indicates the variable and the **`<`** is the *comparator* *less than* sign, comparing the variable to value of **12**.\n<br>The third line uses the **`print()`** function within the while-loop to display the variable value. \n<br>Notice the indent in the code within the while-loop. Without it, an indentation error will occur and prevent the code from being executed.\n<br>The forth line shows the syntax variable **`A`** and **`+=`** *assignment operator* of plus equals to add a value of **2** to the current variable value. \n<br>**Note:** After while the loop is not true, the iteration will run, adding a value of **2** for each time the loop runs until the condition is true. \n\n#### Source Code #7\n```Python\nA = 1\nwhile A < 12:\n  print(A)\n  A += 2\n``` \n\n#### Output \n    1\n    3\n    5\n    7\n    9\n    11\n    \n## Task B: Write the code\n<br>Step 1: Using source code #7 as an example, write the first line of code to declare a variable called **`Score`** and assign the value: **60**\n<br>Step 2: Write the second line of code with while-loop syntax to include a *comparator* with *less than sign* to the value of 90.\n<br>Step 3: Write the third line of code to print the variable. Remember to indent this line of code to avoid an indentation error.  \n<br>Step 4: Write the forth line of code with variable **`Score`** and assignment operator  **`+=`** syntax adding a value of **5**.\n<br>Step 5: Run your code to view the output.\n",
      "metadata": {}
    },
    {
      "cell_type": "code",
      "source": "# Write your code for Exercise 6 in this cell\n",
      "metadata": {},
      "outputs": [],
      "execution_count": null
    },
    {
      "cell_type": "markdown",
      "source": "<details>\n<summary>Click here for Hint</summary>\n\n> When using an while statement, make sure the while is all lower case and the syntax for print and assignment operator lines 3 and 4 are indented correctly.  Otherwise, you will see an error. - ***To create an indent:*** *Press the **Tab** key once OR the **Space Bar** two times on your keyboard.*\n\n</details>\n\n<br>\n\n<details>\n<summary>Click here for Solution</summary>\n\n> \n```Python\nScore = 60\nwhile Score < 90:\n  print(Score)\n  Score += 5\n```\n\n</details>\n",
      "metadata": {}
    },
    {
      "cell_type": "markdown",
      "source": "***\n",
      "metadata": {}
    },
    {
      "cell_type": "markdown",
      "source": "## Exercise 8: Execute a Break Statement using a While-Loop<a id=\"Exercise8\"></a>\n",
      "metadata": {}
    },
    {
      "cell_type": "markdown",
      "source": "While loops continue to execute statements until a condition is true.<br>\nBreak statements allow a program to stop a loop when the condition is true.<br> \nConditional statements are used when decision making is required and code is executed only if certain conditions are met.<br>\n\nIn this exercise, you will practice how to create a break statement in a given while-loop.\n\n## Task A: Review the source code  \nThe first line of the source code below declares a variable called **A** with the value assigned as **1**\n<br>The second line shows the syntax of the while-loop, and **`A`** indicates the variable and the **`<`** is the *comparator* *less than* sign, comparing the variable to value of **36**.\n<br>The third line uses the **`print()`** function within the while-loop to display the variable value. \n<br>Notice the indent in the code within the while-loop.  Without it, an indentation error will occur and prevent the code from being executed.\n<br>The forth line uses the **`if`** conditional statement. If the condition is true, the **`break`** statement ends the loop.\n<br>The fifth line uses the **`break`** statement. Whenever the \"if\" the condition is true, the line will execute and end the loop. \n<br>The sixth line shows the variable **`A`** and the **`+=`** *assignment operator* adds a value of **6** to the current variable value. \n<br>**Note:** The \"while\" loop will run by incrementing the value of  **`A`** by **6** for each time, so long as the Conditional statement ( A < 36) is True. When this becomes False (A >=36), the \"while\" loop will not run.\n\n#### Source Code #8\n```Python\nA = 1\nwhile A < 36:\n  print(A)\n  if A > 20:\n    break\n  A += 6\n``` \n\n#### Output \n    1\n    7\n    13\n    19\n    25\n    \n## Task B: Write the code\n<br>Step 1: Using source code #8 as an example, write the first line of code to declare a variable called **`myval`** and assign the value: **45**\n<br>Step 2: Write the second line of code with while-loop syntax to include a comparator with less than sign to the value of 90.\n<br>Step 3: Write the third line of code to print the variable. Remember to indent this line of code to avoid an indentation error.  \n<br>Step 4: Write the fourth line to begin an \"if\" statement to test if **`myval`** is greater than 80.\n<br>Step 5: Write the fifth line to write the break statement. \n<br>Step 6: Write the sixth line to show the variable **`myval`** and increment it by **8** using the assignment operator  **`+=`** having value as **8**.\n<br>Step 7: Run your code to view the output.\n",
      "metadata": {}
    },
    {
      "cell_type": "code",
      "source": "# Write your code for Exercise 8 in this cell\n",
      "metadata": {},
      "outputs": [],
      "execution_count": null
    },
    {
      "cell_type": "markdown",
      "source": "<details>\n<summary>Click here for Hint</summary>\n\n> When using a \"while\" statement, make sure that the term \"while\" is written in lower case and also ensure that the codes in lines 3, 4, 5 and 6 are indented correctly.  Otherwise, you will receive an error.\n    \n    ***To create an indent:*** *Press the **Tab** key once OR the **Space Bar** two times on your keyboard.*\n\n</details>\n\n<br>\n\n<details>\n<summary>Click here for Solution</summary>\n\n> \n```Python\nmyval = 45\nwhile myval < 90:\n  print(myval)\n  if myval > 80:\n    break\n  myval += 8\n```\n\n</details>\n",
      "metadata": {}
    },
    {
      "cell_type": "markdown",
      "source": "***\n",
      "metadata": {}
    },
    {
      "cell_type": "markdown",
      "source": "### Congratulations!  You have completed the lab and you are ready for the next topic.\n",
      "metadata": {}
    },
    {
      "cell_type": "markdown",
      "source": "## Authors\n",
      "metadata": {}
    },
    {
      "cell_type": "markdown",
      "source": "Roopa Raghavan and Shaun Manzano\n",
      "metadata": {}
    },
    {
      "cell_type": "markdown",
      "source": "<!--## Change Log-->\n",
      "metadata": {}
    },
    {
      "cell_type": "markdown",
      "source": "<!--| Date       | Version | Changed by      | Change Description          |\n| ---------- | ------- | --------------- | --------------------------- |\n| 2023-10-04 | 1.4     |  K Sundararajan | Exercise 8 instructions updated based on learner feedback |\n| 2023-05-30 | 1.3     |  K Sundararajan | Exercise 4 updated based on learner feedback for clarity |\n| 2023-04-05 | 1.2     |  K Sundararajan | Small Instruction update for leaners' clarity |\n| 2022-11-10 | 1.1     |  Shaun Manzano | Added Break Condition and While Loop   |\n| 2022-02-17 | 1.0     |                 | Initial version created     |\n-->\n",
      "metadata": {}
    },
    {
      "cell_type": "markdown",
      "source": "<!--Copyright © 2023 IBM Corporation. All rights reserved.-->\n<h3 align=\"center\"> &#169; IBM Corporation. All rights reserved. <h3/>\n",
      "metadata": {}
    }
  ]
}